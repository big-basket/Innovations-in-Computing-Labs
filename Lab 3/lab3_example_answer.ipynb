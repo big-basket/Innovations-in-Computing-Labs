{
  "cells": [
    {
      "cell_type": "code",
      "execution_count": 2,
      "metadata": {
        "id": "ufVH2Q5M7rRb"
      },
      "outputs": [
        {
          "name": "stdout",
          "output_type": "stream",
          "text": [
            "Observer 1 Notification Received: Test event happened!\n",
            "Observer 2 Notification Received: Test event happened!\n",
            "I am working...\n"
          ]
        },
        {
          "ename": "FileNotFoundError",
          "evalue": "[Errno 2] No such file or directory: 'context_being_monitored.txt'",
          "output_type": "error",
          "traceback": [
            "\u001b[1;31m---------------------------------------------------------------------------\u001b[0m",
            "\u001b[1;31mFileNotFoundError\u001b[0m                         Traceback (most recent call last)",
            "Cell \u001b[1;32mIn[2], line 87\u001b[0m\n\u001b[0;32m     85\u001b[0m \u001b[38;5;66;03m# Start the monitor by using a timer to periodically invoke the task.\u001b[39;00m\n\u001b[0;32m     86\u001b[0m \u001b[38;5;28;01mwhile\u001b[39;00m \u001b[38;5;28;01mTrue\u001b[39;00m:\n\u001b[1;32m---> 87\u001b[0m     \u001b[43mtask1\u001b[49m\u001b[43m(\u001b[49m\u001b[43m)\u001b[49m\n\u001b[0;32m     88\u001b[0m     time\u001b[38;5;241m.\u001b[39msleep(\u001b[38;5;241m5\u001b[39m)\n\u001b[0;32m     90\u001b[0m \u001b[38;5;66;03m# Open the \"context_being_monitored.txt\" file and input/remove\u001b[39;00m\n\u001b[0;32m     91\u001b[0m \u001b[38;5;66;03m# \"abnormal\" values to test whether the monitor captures them.\u001b[39;00m\n",
            "Cell \u001b[1;32mIn[2], line 78\u001b[0m, in \u001b[0;36mtask1\u001b[1;34m()\u001b[0m\n\u001b[0;32m     76\u001b[0m \u001b[38;5;28;01mdef\u001b[39;00m\u001b[38;5;250m \u001b[39m\u001b[38;5;21mtask1\u001b[39m():\n\u001b[0;32m     77\u001b[0m     \u001b[38;5;28mprint\u001b[39m(\u001b[38;5;124m\"\u001b[39m\u001b[38;5;124mI am working...\u001b[39m\u001b[38;5;124m\"\u001b[39m)\n\u001b[1;32m---> 78\u001b[0m     \u001b[38;5;28;01mwith\u001b[39;00m \u001b[38;5;28;43mopen\u001b[39;49m\u001b[43m(\u001b[49m\u001b[43mcontextFile\u001b[49m\u001b[43m,\u001b[49m\u001b[43m \u001b[49m\u001b[38;5;124;43m\"\u001b[39;49m\u001b[38;5;124;43mr\u001b[39;49m\u001b[38;5;124;43m\"\u001b[39;49m\u001b[43m)\u001b[49m \u001b[38;5;28;01mas\u001b[39;00m file:\n\u001b[0;32m     79\u001b[0m         \u001b[38;5;28;01mfor\u001b[39;00m line \u001b[38;5;129;01min\u001b[39;00m file:\n\u001b[0;32m     80\u001b[0m             \u001b[38;5;28;01mif\u001b[39;00m line \u001b[38;5;241m==\u001b[39m \u001b[38;5;124m\"\u001b[39m\u001b[38;5;124mabnormal\u001b[39m\u001b[38;5;130;01m\\n\u001b[39;00m\u001b[38;5;124m\"\u001b[39m \u001b[38;5;129;01mor\u001b[39;00m line \u001b[38;5;241m==\u001b[39m \u001b[38;5;124m\"\u001b[39m\u001b[38;5;124mabnormal\u001b[39m\u001b[38;5;124m\"\u001b[39m:\n",
            "File \u001b[1;32m~\\AppData\\Roaming\\Python\\Python312\\site-packages\\IPython\\core\\interactiveshell.py:324\u001b[0m, in \u001b[0;36m_modified_open\u001b[1;34m(file, *args, **kwargs)\u001b[0m\n\u001b[0;32m    317\u001b[0m \u001b[38;5;28;01mif\u001b[39;00m file \u001b[38;5;129;01min\u001b[39;00m {\u001b[38;5;241m0\u001b[39m, \u001b[38;5;241m1\u001b[39m, \u001b[38;5;241m2\u001b[39m}:\n\u001b[0;32m    318\u001b[0m     \u001b[38;5;28;01mraise\u001b[39;00m \u001b[38;5;167;01mValueError\u001b[39;00m(\n\u001b[0;32m    319\u001b[0m         \u001b[38;5;124mf\u001b[39m\u001b[38;5;124m\"\u001b[39m\u001b[38;5;124mIPython won\u001b[39m\u001b[38;5;124m'\u001b[39m\u001b[38;5;124mt let you open fd=\u001b[39m\u001b[38;5;132;01m{\u001b[39;00mfile\u001b[38;5;132;01m}\u001b[39;00m\u001b[38;5;124m by default \u001b[39m\u001b[38;5;124m\"\u001b[39m\n\u001b[0;32m    320\u001b[0m         \u001b[38;5;124m\"\u001b[39m\u001b[38;5;124mas it is likely to crash IPython. If you know what you are doing, \u001b[39m\u001b[38;5;124m\"\u001b[39m\n\u001b[0;32m    321\u001b[0m         \u001b[38;5;124m\"\u001b[39m\u001b[38;5;124myou can use builtins\u001b[39m\u001b[38;5;124m'\u001b[39m\u001b[38;5;124m open.\u001b[39m\u001b[38;5;124m\"\u001b[39m\n\u001b[0;32m    322\u001b[0m     )\n\u001b[1;32m--> 324\u001b[0m \u001b[38;5;28;01mreturn\u001b[39;00m \u001b[43mio_open\u001b[49m\u001b[43m(\u001b[49m\u001b[43mfile\u001b[49m\u001b[43m,\u001b[49m\u001b[43m \u001b[49m\u001b[38;5;241;43m*\u001b[39;49m\u001b[43margs\u001b[49m\u001b[43m,\u001b[49m\u001b[43m \u001b[49m\u001b[38;5;241;43m*\u001b[39;49m\u001b[38;5;241;43m*\u001b[39;49m\u001b[43mkwargs\u001b[49m\u001b[43m)\u001b[49m\n",
            "\u001b[1;31mFileNotFoundError\u001b[0m: [Errno 2] No such file or directory: 'context_being_monitored.txt'"
          ]
        }
      ],
      "source": [
        "from abc import ABC, abstractmethod\n",
        "import time\n",
        "\n",
        "# Define an interface for the observer.\n",
        "class ObserverInterface(ABC):\n",
        "    @abstractmethod\n",
        "    def update(self, message: str):\n",
        "        pass\n",
        "\n",
        "# Define an interface for the subject.\n",
        "class SubjectInterface(ABC):\n",
        "    @abstractmethod\n",
        "    def notify_observers(self, message: str):\n",
        "        pass\n",
        "\n",
        "    @abstractmethod\n",
        "    def add_observer(self, observer: ObserverInterface):\n",
        "        pass\n",
        "\n",
        "    @abstractmethod\n",
        "    def remove_observer(self, observer: ObserverInterface):\n",
        "        pass\n",
        "\n",
        "# Implement the observer interface.\n",
        "class ConcreteObserver(ObserverInterface):\n",
        "    def __init__(self, name):\n",
        "        self.name = name\n",
        "\n",
        "    def update(self, message: str):\n",
        "        print(f\"{self.name} Notification Received: {message}\")\n",
        "\n",
        "\n",
        "# Implement the subject interface.\n",
        "class TargetForMonitor(SubjectInterface):\n",
        "    def __init__(self):\n",
        "        self._observers = []\n",
        "\n",
        "    def add_observer(self, observer: ObserverInterface):\n",
        "        self._observers.append(observer)\n",
        "\n",
        "    def remove_observer(self, observer: ObserverInterface):\n",
        "        self._observers.remove(observer)\n",
        "\n",
        "    def notify_observers(self, message: str):\n",
        "        for observer in self._observers:\n",
        "            observer.update(message)\n",
        "\n",
        "if __name__ == \"__main__\":\n",
        "    # Instantiate one concrete subject.\n",
        "    subject = TargetForMonitor()\n",
        "\n",
        "    # Instantiate three concrete observers.\n",
        "    observer1 = ConcreteObserver(\"Observer 1\")\n",
        "    observer2 = ConcreteObserver(\"Observer 2\")\n",
        "    observer3 = ConcreteObserver(\"Observer 3\")\n",
        "\n",
        "    # Register the three observers with the targer to be monitored.\n",
        "    subject.add_observer(observer1)\n",
        "    subject.add_observer(observer2)\n",
        "    subject.add_observer(observer3)\n",
        "\n",
        "    # Remove the third observer from the subscription list.\n",
        "    subject.remove_observer(observer3)\n",
        "\n",
        "    # Test the notification function for the registered observers.\n",
        "    # Two observers left.\n",
        "    subject.notify_observers(\"Test event happened!\")\n",
        "\n",
        "    # Create a text file named \"context_being_monitored.txt\"\n",
        "    # (under the project root or \".../content\").\n",
        "\n",
        "    contextFile = \"context_being_monitored.txt\"\n",
        "\n",
        "    # Define the task:\n",
        "    # To monitor the context for whether \"abnormal\" value is in the context.\n",
        "    def task1():\n",
        "        print(\"I am working...\")\n",
        "        with open(contextFile, \"r\") as file:\n",
        "            for line in file:\n",
        "                if line == \"abnormal\\n\" or line == \"abnormal\":\n",
        "                    subject.notify_observers(\"Abnormal event happened!\")\n",
        "\n",
        "        file.close()\n",
        "\n",
        "    # Start the monitor by using a timer to periodically invoke the task.\n",
        "    while True:\n",
        "        task1()\n",
        "        time.sleep(5)\n",
        "\n",
        "    # Open the \"context_being_monitored.txt\" file and input/remove\n",
        "    # \"abnormal\" values to test whether the monitor captures them."
      ]
    }
  ],
  "metadata": {
    "colab": {
      "provenance": []
    },
    "kernelspec": {
      "display_name": "Python 3",
      "name": "python3"
    },
    "language_info": {
      "codemirror_mode": {
        "name": "ipython",
        "version": 3
      },
      "file_extension": ".py",
      "mimetype": "text/x-python",
      "name": "python",
      "nbconvert_exporter": "python",
      "pygments_lexer": "ipython3",
      "version": "3.12.7"
    }
  },
  "nbformat": 4,
  "nbformat_minor": 0
}
