{
  "nbformat": 4,
  "nbformat_minor": 0,
  "metadata": {
    "colab": {
      "provenance": []
    },
    "kernelspec": {
      "name": "python3",
      "display_name": "Python 3"
    },
    "language_info": {
      "name": "python"
    }
  },
  "cells": [
    {
      "cell_type": "markdown",
      "source": [
        "## Examples"
      ],
      "metadata": {
        "id": "d1g-CiRluS-b"
      }
    },
    {
      "cell_type": "markdown",
      "source": [
        "\"abc\" provides the infrastructure for defining abstract base classes (ABCs) in python. The following is an example of how to define an interface and how to implement an interface."
      ],
      "metadata": {
        "id": "IykzKD7qUYKs"
      }
    },
    {
      "cell_type": "code",
      "source": [
        "from abc import ABC, abstractmethod\n",
        "\n",
        "# Define an interface with an abstract method.\n",
        "class ExampleInterface(ABC):\n",
        "    @abstractmethod\n",
        "    def example_method(self):\n",
        "        pass\n",
        "\n",
        "# Implement the \"ExampleInterface\" interface.\n",
        "class ExampleClass(ExampleInterface):\n",
        "    def __init__(self, name):\n",
        "        self.name = name\n",
        "\n",
        "    def update(self, message: str):\n",
        "        print(f\"{self.name} Notification Received: {message}\")"
      ],
      "metadata": {
        "id": "DsxJItPAZNLh"
      },
      "execution_count": null,
      "outputs": []
    },
    {
      "cell_type": "markdown",
      "source": [
        "## The Monitor and Trigger"
      ],
      "metadata": {
        "id": "9bsJ3xqzuXOq"
      }
    },
    {
      "cell_type": "markdown",
      "source": [
        "### Interfaces and Classes"
      ],
      "metadata": {
        "id": "kEZl_fKFvclJ"
      }
    },
    {
      "cell_type": "markdown",
      "source": [
        "Imitate the above example and define the interfaces for the observers and subjects"
      ],
      "metadata": {
        "id": "bDHIS8maZabv"
      }
    },
    {
      "cell_type": "code",
      "execution_count": 6,
      "metadata": {
        "id": "Lg6X1Jj7rOgt"
      },
      "outputs": [],
      "source": [
        "from abc import ABC, abstractmethod\n",
        "import time\n",
        "\n",
        "# Define an interface for the observer.\n",
        "class ObserverInterface(ABC):\n",
        "    ...\n",
        "\n",
        "# Define an interface for the subject.\n",
        "class SubjectInterface(ABC):\n",
        "    @abstractmethod\n",
        "    def notify_observers(self, message: str):\n",
        "        pass\n",
        "\n",
        "    @abstractmethod\n",
        "    def add_observer(self, observer: ObserverInterface):\n",
        "        pass\n",
        "\n",
        "    ...\n",
        "\n",
        "# Implement the observer interface.\n",
        "class ConcreteObserver(ObserverInterface):\n",
        "    def __init__(self, name):\n",
        "        self.name = name\n",
        "\n",
        "    def update(self, message: str):\n",
        "        print(f\"{self.name} Notification Received: {message}\")\n",
        "\n",
        "\n",
        "# Implement the subject interface.\n",
        "class TargetForMonitor(SubjectInterface):\n",
        "    def __init__(self):\n",
        "        self._observers = []\n",
        "\n",
        "    ..."
      ]
    },
    {
      "cell_type": "markdown",
      "source": [
        "### The SystemDemo, i.e., the main entrance of the programme"
      ],
      "metadata": {
        "id": "OMVDHrOQvaJ9"
      }
    },
    {
      "cell_type": "markdown",
      "source": [
        "#### Instantiate two concrete observers"
      ],
      "metadata": {
        "id": "cpxb95JS6wR8"
      }
    },
    {
      "cell_type": "code",
      "source": [
        "if __name__ == \"__main__\":\n",
        "    # Instantiate one concrete subject.\n",
        "    ...\n",
        "\n",
        "    # Instantiate three concrete observers.\n",
        "    ...\n",
        "\n",
        "    # Register the three observers with the targer to be monitored.\n",
        "    ...\n",
        "\n",
        "    # Remove the third observer from the subscription list.\n",
        "    ...\n",
        "\n",
        "    # Test the notification function for the registered observers.\n",
        "    # Two observers left.\n",
        "    subject.notify_observers(\"Test event happened!\")\n",
        "\n",
        "    # Create a text file named \"context_being_monitored.txt\"\n",
        "    # (under the project root or \".../content\").\n",
        "\n",
        "    contextFile = \"context_being_monitored.txt\"\n",
        "\n",
        "    # Define the task:\n",
        "    # To monitor the context for whether \"abnormal\" value is in the context.\n",
        "    def task1():\n",
        "        print(\"I am working...\")\n",
        "        with open(contextFile, \"r\") as file:\n",
        "            for line in file:\n",
        "                if line == \"abnormal\\n\" or line == \"abnormal\":\n",
        "                    subject.notify_observers(\"Abnormal event happened!\")\n",
        "\n",
        "        file.close()\n",
        "\n",
        "    # Start the monitor by using a timer to periodically invoke the task.\n",
        "    # Use \"while True\" to continuously invoke the task1.\n",
        "    # Use \"time.sleep(5)\" to achieve the timer function to\n",
        "    # invoke the function every 5 seconds.\n",
        "    while True:\n",
        "        task1()\n",
        "        time.sleep(5)\n",
        "\n",
        "    # Open the \"context_being_monitored.txt\" file and input/remove\n",
        "    # \"abnormal\" values to test whether the monitor captures them."
      ],
      "metadata": {
        "id": "lAu0IjEmvvLW"
      },
      "execution_count": 10,
      "outputs": []
    }
  ]
}